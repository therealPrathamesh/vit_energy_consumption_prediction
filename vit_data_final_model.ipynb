{
 "cells": [
  {
   "cell_type": "code",
   "execution_count": 32,
   "metadata": {},
   "outputs": [],
   "source": [
    "#Required imports\n",
    "import pandas as pd \n",
    "import numpy as np\n",
    "import seaborn as sns\n",
    "import matplotlib.pyplot as plt\n",
    "from datetime import datetime\n",
    "import statsmodels.api as sm\n",
    "from sklearn.metrics import mean_squared_error\n",
    "from sklearn.model_selection import train_test_split\n",
    "from statsmodels.graphics.tsaplots import plot_acf\n",
    "import pickle\n",
    "import warnings\n",
    "warnings.filterwarnings('ignore', 'statsmodels.tsa.ar_model.AR', FutureWarning)"
   ]
  },
  {
   "cell_type": "code",
   "execution_count": 2,
   "metadata": {},
   "outputs": [
    {
     "data": {
      "text/html": [
       "<div>\n",
       "<style scoped>\n",
       "    .dataframe tbody tr th:only-of-type {\n",
       "        vertical-align: middle;\n",
       "    }\n",
       "\n",
       "    .dataframe tbody tr th {\n",
       "        vertical-align: top;\n",
       "    }\n",
       "\n",
       "    .dataframe thead th {\n",
       "        text-align: right;\n",
       "    }\n",
       "</style>\n",
       "<table border=\"1\" class=\"dataframe\">\n",
       "  <thead>\n",
       "    <tr style=\"text-align: right;\">\n",
       "      <th></th>\n",
       "      <th>Month_of_year</th>\n",
       "      <th>EB Units</th>\n",
       "    </tr>\n",
       "  </thead>\n",
       "  <tbody>\n",
       "    <tr>\n",
       "      <th>0</th>\n",
       "      <td>01-01-2014</td>\n",
       "      <td>1516520</td>\n",
       "    </tr>\n",
       "    <tr>\n",
       "      <th>1</th>\n",
       "      <td>01-02-2014</td>\n",
       "      <td>1981919</td>\n",
       "    </tr>\n",
       "    <tr>\n",
       "      <th>2</th>\n",
       "      <td>01-03-2014</td>\n",
       "      <td>2276161</td>\n",
       "    </tr>\n",
       "    <tr>\n",
       "      <th>3</th>\n",
       "      <td>01-04-2014</td>\n",
       "      <td>3050992</td>\n",
       "    </tr>\n",
       "    <tr>\n",
       "      <th>4</th>\n",
       "      <td>01-05-2014</td>\n",
       "      <td>3103564</td>\n",
       "    </tr>\n",
       "  </tbody>\n",
       "</table>\n",
       "</div>"
      ],
      "text/plain": [
       "  Month_of_year EB Units\n",
       "0    01-01-2014  1516520\n",
       "1    01-02-2014  1981919\n",
       "2    01-03-2014  2276161\n",
       "3    01-04-2014  3050992\n",
       "4    01-05-2014  3103564"
      ]
     },
     "execution_count": 2,
     "metadata": {},
     "output_type": "execute_result"
    }
   ],
   "source": [
    "data = pd.read_csv(\"C:/Prathamesh/Semester 6/IOT/Project/VIT_model/final_vit_dataset.csv\")\n",
    "data.head()"
   ]
  },
  {
   "cell_type": "code",
   "execution_count": 3,
   "metadata": {},
   "outputs": [
    {
     "name": "stdout",
     "output_type": "stream",
     "text": [
      "Month_of_year     object\n",
      "EB Units         float64\n",
      "dtype: object\n"
     ]
    }
   ],
   "source": [
    "#This indicates that we need to convert the datatype of the values in the EB units columnn from object to float\n",
    "# Removing commas from values in the column\n",
    "data['EB Units'] = data['EB Units'].apply(str).str.replace(',', '')\n",
    "\n",
    "# Convert the column to float data type using astype()\n",
    "data['EB Units'] = data['EB Units'].astype(float)\n",
    "\n",
    "print(data.dtypes)"
   ]
  },
  {
   "cell_type": "code",
   "execution_count": 4,
   "metadata": {},
   "outputs": [],
   "source": [
    "# Assuming your DataFrame is named \"df\" and the date column is named \"ds\"\n",
    "data['Month_of_year'] = pd.to_datetime(data['Month_of_year'])"
   ]
  },
  {
   "cell_type": "code",
   "execution_count": 5,
   "metadata": {},
   "outputs": [
    {
     "name": "stdout",
     "output_type": "stream",
     "text": [
      "Month_of_year    datetime64[ns]\n",
      "EB Units                float64\n",
      "dtype: object\n"
     ]
    }
   ],
   "source": [
    "print(data.dtypes)"
   ]
  },
  {
   "cell_type": "code",
   "execution_count": 6,
   "metadata": {},
   "outputs": [],
   "source": [
    "# Convert the \"date\" column to datetime data type using the original format\n",
    "data['Month_of_year'] = pd.to_datetime(data['Month_of_year'], format='%d-%m-%Y')\n",
    "\n",
    "# Convert the \"date\" column to a new format (yyyy-mm-dd)\n",
    "data['Month_of_year'] = data['Month_of_year'].dt.strftime('%Y-%m-%d')\n",
    "\n",
    "# Save the updated DataFrame back to a new CSV file\n",
    "data.to_csv('vit_updated_file.csv', index=False)"
   ]
  },
  {
   "cell_type": "code",
   "execution_count": 7,
   "metadata": {},
   "outputs": [
    {
     "data": {
      "text/html": [
       "<div>\n",
       "<style scoped>\n",
       "    .dataframe tbody tr th:only-of-type {\n",
       "        vertical-align: middle;\n",
       "    }\n",
       "\n",
       "    .dataframe tbody tr th {\n",
       "        vertical-align: top;\n",
       "    }\n",
       "\n",
       "    .dataframe thead th {\n",
       "        text-align: right;\n",
       "    }\n",
       "</style>\n",
       "<table border=\"1\" class=\"dataframe\">\n",
       "  <thead>\n",
       "    <tr style=\"text-align: right;\">\n",
       "      <th></th>\n",
       "      <th>Month_of_year</th>\n",
       "      <th>EB Units</th>\n",
       "    </tr>\n",
       "  </thead>\n",
       "  <tbody>\n",
       "    <tr>\n",
       "      <th>0</th>\n",
       "      <td>2014-01-01</td>\n",
       "      <td>1516520.0</td>\n",
       "    </tr>\n",
       "    <tr>\n",
       "      <th>1</th>\n",
       "      <td>2014-01-02</td>\n",
       "      <td>1981919.0</td>\n",
       "    </tr>\n",
       "    <tr>\n",
       "      <th>2</th>\n",
       "      <td>2014-01-03</td>\n",
       "      <td>2276161.0</td>\n",
       "    </tr>\n",
       "    <tr>\n",
       "      <th>3</th>\n",
       "      <td>2014-01-04</td>\n",
       "      <td>3050992.0</td>\n",
       "    </tr>\n",
       "    <tr>\n",
       "      <th>4</th>\n",
       "      <td>2014-01-05</td>\n",
       "      <td>3103564.0</td>\n",
       "    </tr>\n",
       "  </tbody>\n",
       "</table>\n",
       "</div>"
      ],
      "text/plain": [
       "  Month_of_year   EB Units\n",
       "0    2014-01-01  1516520.0\n",
       "1    2014-01-02  1981919.0\n",
       "2    2014-01-03  2276161.0\n",
       "3    2014-01-04  3050992.0\n",
       "4    2014-01-05  3103564.0"
      ]
     },
     "execution_count": 7,
     "metadata": {},
     "output_type": "execute_result"
    }
   ],
   "source": [
    "df = pd.read_csv('vit_updated_file.csv')\n",
    "df.head()"
   ]
  },
  {
   "cell_type": "code",
   "execution_count": 15,
   "metadata": {},
   "outputs": [],
   "source": [
    "df['Month_of_year'] = pd.to_datetime(df['Month_of_year'])"
   ]
  },
  {
   "cell_type": "code",
   "execution_count": 27,
   "metadata": {},
   "outputs": [
    {
     "name": "stdout",
     "output_type": "stream",
     "text": [
      "Month_of_year    datetime64[ns]\n",
      "EB Units                float64\n",
      "dtype: object\n"
     ]
    }
   ],
   "source": [
    "print(df.dtypes)"
   ]
  },
  {
   "cell_type": "code",
   "execution_count": 28,
   "metadata": {},
   "outputs": [],
   "source": [
    "new_df = df[[\"Month_of_year\", \"EB Units\"]] \n",
    "new_df.rename(columns={\"Month_of_year\": \"ds\", \"EB Units\": \"y\"}, inplace=True)"
   ]
  },
  {
   "cell_type": "code",
   "execution_count": 10,
   "metadata": {},
   "outputs": [
    {
     "data": {
      "text/plain": [
       "[<matplotlib.lines.Line2D at 0x2030e4b2d30>]"
      ]
     },
     "execution_count": 10,
     "metadata": {},
     "output_type": "execute_result"
    },
    {
     "data": {
      "image/png": "[encoded data removed]",
      "text/plain": [
       "<Figure size 432x288 with 1 Axes>"
      ]
     },
     "metadata": {
      "needs_background": "light"
     },
     "output_type": "display_data"
    }
   ],
   "source": [
    "import matplotlib.pyplot as plt\n",
    "\n",
    "plt.plot(data['Month_of_year'] , data['EB Units'])"
   ]
  },
  {
   "cell_type": "code",
   "execution_count": 11,
   "metadata": {},
   "outputs": [
    {
     "name": "stdout",
     "output_type": "stream",
     "text": [
      "Requirement already satisfied: neuralprophet in c:\\annaconda\\lib\\site-packages (0.5.3)\n",
      "Requirement already satisfied: torch<2.0,>=1.8.0 in c:\\annaconda\\lib\\site-packages (from neuralprophet) (1.13.1)\n",
      "Note: you may need to restart the kernel to use updated packages.\n",
      "Requirement already satisfied: ipywidgets>=7.5.1 in c:\\annaconda\\lib\\site-packages (from neuralprophet) (7.5.1)\n",
      "Requirement already satisfied: convertdate>=2.1.2 in c:\\annaconda\\lib\\site-packages (from neuralprophet) (2.4.0)\n",
      "Requirement already satisfied: captum>=0.5.0 in c:\\annaconda\\lib\\site-packages (from neuralprophet) (0.6.0)\n",
      "Requirement already satisfied: plotly-resampler>=0.8.3 in c:\\annaconda\\lib\\site-packages (from neuralprophet) (0.8.3.2)\n",
      "Requirement already satisfied: pytorch-lightning<2.0.0,>=1.7 in c:\\annaconda\\lib\\site-packages (from neuralprophet) (1.9.4)\n",
      "Requirement already satisfied: torchmetrics>=0.9.3 in c:\\annaconda\\lib\\site-packages (from neuralprophet) (0.11.4)\n",
      "Requirement already satisfied: holidays>=0.20 in c:\\annaconda\\lib\\site-packages (from neuralprophet) (0.22)\n",
      "Requirement already satisfied: plotly>=5.12.0 in c:\\annaconda\\lib\\site-packages (from neuralprophet) (5.14.1)\n",
      "Requirement already satisfied: dash<2.9 in c:\\annaconda\\lib\\site-packages (from neuralprophet) (2.8.1)\n",
      "Requirement already satisfied: LunarCalendar>=0.0.9 in c:\\annaconda\\lib\\site-packages (from neuralprophet) (0.0.9)\n",
      "Requirement already satisfied: python-dateutil>=2.8.0 in c:\\annaconda\\lib\\site-packages (from neuralprophet) (2.8.1)\n",
      "Requirement already satisfied: numpy<1.24.0,>=1.15.4 in c:\\annaconda\\lib\\site-packages (from neuralprophet) (1.18.5)\n",
      "Requirement already satisfied: widgetsnbextension>=4.0.5 in c:\\annaconda\\lib\\site-packages (from neuralprophet) (4.0.7)\n",
      "Requirement already satisfied: tensorboard in c:\\annaconda\\lib\\site-packages (from neuralprophet) (2.12.1)\n",
      "Requirement already satisfied: pandas>=1.0.4 in c:\\annaconda\\lib\\site-packages (from neuralprophet) (1.0.5)\n",
      "Requirement already satisfied: matplotlib>=2.0.0 in c:\\annaconda\\lib\\site-packages (from neuralprophet) (3.2.2)\n",
      "Requirement already satisfied: typing-extensions in c:\\annaconda\\lib\\site-packages (from torch<2.0,>=1.8.0->neuralprophet) (4.5.0)\n",
      "Requirement already satisfied: nbformat>=4.2.0 in c:\\annaconda\\lib\\site-packages (from ipywidgets>=7.5.1->neuralprophet) (5.0.7)\n",
      "Requirement already satisfied: ipython>=4.0.0; python_version >= \"3.3\" in c:\\annaconda\\lib\\site-packages (from ipywidgets>=7.5.1->neuralprophet) (7.16.1)\n",
      "Requirement already satisfied: traitlets>=4.3.1 in c:\\annaconda\\lib\\site-packages (from ipywidgets>=7.5.1->neuralprophet) (4.3.3)\n",
      "Requirement already satisfied: ipykernel>=4.5.1 in c:\\annaconda\\lib\\site-packages (from ipywidgets>=7.5.1->neuralprophet) (5.3.2)\n",
      "Requirement already satisfied: pymeeus<=1,>=0.3.13 in c:\\annaconda\\lib\\site-packages (from convertdate>=2.1.2->neuralprophet) (0.5.12)\n",
      "Requirement already satisfied: trace-updater>=0.0.8 in c:\\annaconda\\lib\\site-packages (from plotly-resampler>=0.8.3->neuralprophet) (0.0.9)\n",
      "Requirement already satisfied: jupyter-dash>=0.4.2 in c:\\annaconda\\lib\\site-packages (from plotly-resampler>=0.8.3->neuralprophet) (0.4.2)\n",
      "Requirement already satisfied: orjson<4.0.0,>=3.8.0 in c:\\annaconda\\lib\\site-packages (from plotly-resampler>=0.8.3->neuralprophet) (3.8.9)\n",
      "Requirement already satisfied: tqdm>=4.57.0 in c:\\annaconda\\lib\\site-packages (from pytorch-lightning<2.0.0,>=1.7->neuralprophet) (4.65.0)\n",
      "Requirement already satisfied: packaging>=17.1 in c:\\annaconda\\lib\\site-packages (from pytorch-lightning<2.0.0,>=1.7->neuralprophet) (20.4)\n",
      "Requirement already satisfied: PyYAML>=5.4 in c:\\annaconda\\lib\\site-packages (from pytorch-lightning<2.0.0,>=1.7->neuralprophet) (6.0)\n",
      "Requirement already satisfied: lightning-utilities>=0.6.0.post0 in c:\\annaconda\\lib\\site-packages (from pytorch-lightning<2.0.0,>=1.7->neuralprophet) (0.8.0)\n",
      "Requirement already satisfied: fsspec[http]>2021.06.0 in c:\\annaconda\\lib\\site-packages (from pytorch-lightning<2.0.0,>=1.7->neuralprophet) (2023.3.0)\n",
      "Requirement already satisfied: backports.zoneinfo; python_version < \"3.9\" in c:\\annaconda\\lib\\site-packages (from holidays>=0.20->neuralprophet) (0.2.1)\n",
      "Requirement already satisfied: tzdata; os_name == \"nt\" in c:\\annaconda\\lib\\site-packages (from holidays>=0.20->neuralprophet) (2023.3)\n",
      "Requirement already satisfied: hijri-converter in c:\\annaconda\\lib\\site-packages (from holidays>=0.20->neuralprophet) (2.2.4)\n",
      "Requirement already satisfied: korean-lunar-calendar in c:\\annaconda\\lib\\site-packages (from holidays>=0.20->neuralprophet) (0.3.1)\n",
      "Requirement already satisfied: tenacity>=6.2.0 in c:\\annaconda\\lib\\site-packages (from plotly>=5.12.0->neuralprophet) (8.2.2)\n",
      "Requirement already satisfied: Flask>=1.0.4 in c:\\annaconda\\lib\\site-packages (from dash<2.9->neuralprophet) (1.1.2)\n",
      "Requirement already satisfied: dash-core-components==2.0.0 in c:\\annaconda\\lib\\site-packages (from dash<2.9->neuralprophet) (2.0.0)\n",
      "Requirement already satisfied: dash-html-components==2.0.0 in c:\\annaconda\\lib\\site-packages (from dash<2.9->neuralprophet) (2.0.0)\n",
      "Requirement already satisfied: dash-table==5.0.0 in c:\\annaconda\\lib\\site-packages (from dash<2.9->neuralprophet) (5.0.0)\n",
      "Requirement already satisfied: pytz in c:\\annaconda\\lib\\site-packages (from LunarCalendar>=0.0.9->neuralprophet) (2020.1)\n",
      "Requirement already satisfied: ephem>=3.7.5.3 in c:\\annaconda\\lib\\site-packages (from LunarCalendar>=0.0.9->neuralprophet) (4.1.4)\n",
      "Requirement already satisfied: six>=1.5 in c:\\annaconda\\lib\\site-packages (from python-dateutil>=2.8.0->neuralprophet) (1.15.0)\n",
      "Requirement already satisfied: tensorboard-plugin-wit>=1.6.0 in c:\\annaconda\\lib\\site-packages (from tensorboard->neuralprophet) (1.8.1)\n",
      "Requirement already satisfied: google-auth-oauthlib<1.1,>=0.5 in c:\\annaconda\\lib\\site-packages (from tensorboard->neuralprophet) (1.0.0)\n",
      "Requirement already satisfied: setuptools>=41.0.0 in c:\\annaconda\\lib\\site-packages (from tensorboard->neuralprophet) (49.2.0.post20200714)\n",
      "Requirement already satisfied: grpcio>=1.48.2 in c:\\annaconda\\lib\\site-packages (from tensorboard->neuralprophet) (1.53.0)\n",
      "Requirement already satisfied: wheel>=0.26 in c:\\annaconda\\lib\\site-packages (from tensorboard->neuralprophet) (0.34.2)\n",
      "Requirement already satisfied: requests<3,>=2.21.0 in c:\\annaconda\\lib\\site-packages (from tensorboard->neuralprophet) (2.24.0)\n",
      "Requirement already satisfied: google-auth<3,>=1.6.3 in c:\\annaconda\\lib\\site-packages (from tensorboard->neuralprophet) (2.17.2)\n",
      "Requirement already satisfied: werkzeug>=1.0.1 in c:\\annaconda\\lib\\site-packages (from tensorboard->neuralprophet) (1.0.1)\n",
      "Requirement already satisfied: markdown>=2.6.8 in c:\\annaconda\\lib\\site-packages (from tensorboard->neuralprophet) (3.4.3)\n",
      "Requirement already satisfied: absl-py>=0.4 in c:\\annaconda\\lib\\site-packages (from tensorboard->neuralprophet) (1.4.0)\n",
      "Requirement already satisfied: protobuf>=3.19.6 in c:\\annaconda\\lib\\site-packages (from tensorboard->neuralprophet) (4.22.1)\n",
      "Requirement already satisfied: tensorboard-data-server<0.8.0,>=0.7.0 in c:\\annaconda\\lib\\site-packages (from tensorboard->neuralprophet) (0.7.0)\n",
      "Requirement already satisfied: cycler>=0.10 in c:\\annaconda\\lib\\site-packages (from matplotlib>=2.0.0->neuralprophet) (0.10.0)\n",
      "Requirement already satisfied: pyparsing!=2.0.4,!=2.1.2,!=2.1.6,>=2.0.1 in c:\\annaconda\\lib\\site-packages (from matplotlib>=2.0.0->neuralprophet) (2.4.7)\n",
      "Requirement already satisfied: kiwisolver>=1.0.1 in c:\\annaconda\\lib\\site-packages (from matplotlib>=2.0.0->neuralprophet) (1.2.0)\n",
      "Requirement already satisfied: ipython-genutils in c:\\annaconda\\lib\\site-packages (from nbformat>=4.2.0->ipywidgets>=7.5.1->neuralprophet) (0.2.0)\n",
      "Requirement already satisfied: jsonschema!=2.5.0,>=2.4 in c:\\annaconda\\lib\\site-packages (from nbformat>=4.2.0->ipywidgets>=7.5.1->neuralprophet) (3.2.0)\n",
      "Requirement already satisfied: jupyter-core in c:\\annaconda\\lib\\site-packages (from nbformat>=4.2.0->ipywidgets>=7.5.1->neuralprophet) (4.6.3)\n",
      "Requirement already satisfied: pickleshare in c:\\annaconda\\lib\\site-packages (from ipython>=4.0.0; python_version >= \"3.3\"->ipywidgets>=7.5.1->neuralprophet) (0.7.5)\n",
      "Requirement already satisfied: prompt-toolkit!=3.0.0,!=3.0.1,<3.1.0,>=2.0.0 in c:\\annaconda\\lib\\site-packages (from ipython>=4.0.0; python_version >= \"3.3\"->ipywidgets>=7.5.1->neuralprophet) (3.0.5)\n",
      "Requirement already satisfied: decorator in c:\\annaconda\\lib\\site-packages (from ipython>=4.0.0; python_version >= \"3.3\"->ipywidgets>=7.5.1->neuralprophet) (4.4.2)\n",
      "Requirement already satisfied: backcall in c:\\annaconda\\lib\\site-packages (from ipython>=4.0.0; python_version >= \"3.3\"->ipywidgets>=7.5.1->neuralprophet) (0.2.0)\n",
      "Requirement already satisfied: colorama; sys_platform == \"win32\" in c:\\annaconda\\lib\\site-packages (from ipython>=4.0.0; python_version >= \"3.3\"->ipywidgets>=7.5.1->neuralprophet) (0.4.3)\n",
      "Requirement already satisfied: jedi>=0.10 in c:\\annaconda\\lib\\site-packages (from ipython>=4.0.0; python_version >= \"3.3\"->ipywidgets>=7.5.1->neuralprophet) (0.17.1)\n",
      "Requirement already satisfied: pygments in c:\\annaconda\\lib\\site-packages (from ipython>=4.0.0; python_version >= \"3.3\"->ipywidgets>=7.5.1->neuralprophet) (2.6.1)\n",
      "Requirement already satisfied: tornado>=4.2 in c:\\annaconda\\lib\\site-packages (from ipykernel>=4.5.1->ipywidgets>=7.5.1->neuralprophet) (6.0.4)\n",
      "Requirement already satisfied: jupyter-client in c:\\annaconda\\lib\\site-packages (from ipykernel>=4.5.1->ipywidgets>=7.5.1->neuralprophet) (6.1.6)\n",
      "Requirement already satisfied: retrying in c:\\annaconda\\lib\\site-packages (from jupyter-dash>=0.4.2->plotly-resampler>=0.8.3->neuralprophet) (1.3.4)\n",
      "Requirement already satisfied: ansi2html in c:\\annaconda\\lib\\site-packages (from jupyter-dash>=0.4.2->plotly-resampler>=0.8.3->neuralprophet) (1.8.0)\n",
      "Requirement already satisfied: nest-asyncio in c:\\annaconda\\lib\\site-packages (from jupyter-dash>=0.4.2->plotly-resampler>=0.8.3->neuralprophet) (1.5.6)\n",
      "Requirement already satisfied: aiohttp!=4.0.0a0,!=4.0.0a1; extra == \"http\" in c:\\annaconda\\lib\\site-packages (from fsspec[http]>2021.06.0->pytorch-lightning<2.0.0,>=1.7->neuralprophet) (3.8.4)"
     ]
    }
   ],
   "source": [
    "pip install neuralprophet\n"
   ]
  },
  {
   "cell_type": "code",
   "execution_count": 12,
   "metadata": {},
   "outputs": [
    {
     "name": "stdout",
     "output_type": "stream",
     "text": [
      "\n",
      "Requirement already satisfied: itsdangerous>=0.24 in c:\\annaconda\\lib\\site-packages (from Flask>=1.0.4->dash<2.9->neuralprophet) (1.1.0)\n",
      "Requirement already satisfied: click>=5.1 in c:\\annaconda\\lib\\site-packages (from Flask>=1.0.4->dash<2.9->neuralprophet) (7.1.2)\n",
      "Requirement already satisfied: Jinja2>=2.10.1 in c:\\annaconda\\lib\\site-packages (from Flask>=1.0.4->dash<2.9->neuralprophet) (2.11.2)\n",
      "Requirement already satisfied: requests-oauthlib>=0.7.0 in c:\\annaconda\\lib\\site-packages (from google-auth-oauthlib<1.1,>=0.5->tensorboard->neuralprophet) (1.3.1)\n",
      "Requirement already satisfied: idna<3,>=2.5 in c:\\annaconda\\lib\\site-packages (from requests<3,>=2.21.0->tensorboard->neuralprophet) (2.10)\n",
      "Requirement already satisfied: certifi>=2017.4.17 in c:\\annaconda\\lib\\site-packages (from requests<3,>=2.21.0->tensorboard->neuralprophet) (2020.6.20)\n",
      "Requirement already satisfied: urllib3!=1.25.0,!=1.25.1,<1.26,>=1.21.1 in c:\\annaconda\\lib\\site-packages (from requests<3,>=2.21.0->tensorboard->neuralprophet) (1.25.9)\n",
      "Requirement already satisfied: chardet<4,>=3.0.2 in c:\\annaconda\\lib\\site-packages (from requests<3,>=2.21.0->tensorboard->neuralprophet) (3.0.4)\n",
      "Requirement already satisfied: rsa<5,>=3.1.4; python_version >= \"3.6\" in c:\\annaconda\\lib\\site-packages (from google-auth<3,>=1.6.3->tensorboard->neuralprophet) (4.9)\n",
      "Requirement already satisfied: pyasn1-modules>=0.2.1 in c:\\annaconda\\lib\\site-packages (from google-auth<3,>=1.6.3->tensorboard->neuralprophet) (0.2.8)\n",
      "Requirement already satisfied: cachetools<6.0,>=2.0.0 in c:\\annaconda\\lib\\site-packages (from google-auth<3,>=1.6.3->tensorboard->neuralprophet) (5.3.0)\n",
      "Requirement already satisfied: importlib-metadata>=4.4; python_version < \"3.10\" in c:\\annaconda\\lib\\site-packages (from markdown>=2.6.8->tensorboard->neuralprophet) (6.1.0)\n",
      "Requirement already satisfied: pyrsistent>=0.14.0 in c:\\annaconda\\lib\\site-packages (from jsonschema!=2.5.0,>=2.4->nbformat>=4.2.0->ipywidgets>=7.5.1->neuralprophet) (0.16.0)\n",
      "Requirement already satisfied: attrs>=17.4.0 in c:\\annaconda\\lib\\site-packages (from jsonschema!=2.5.0,>=2.4->nbformat>=4.2.0->ipywidgets>=7.5.1->neuralprophet) (19.3.0)\n",
      "Requirement already satisfied: pywin32>=1.0; sys_platform == \"win32\" in c:\\annaconda\\lib\\site-packages (from jupyter-core->nbformat>=4.2.0->ipywidgets>=7.5.1->neuralprophet) (227)\n",
      "Requirement already satisfied: wcwidth in c:\\annaconda\\lib\\site-packages (from prompt-toolkit!=3.0.0,!=3.0.1,<3.1.0,>=2.0.0->ipython>=4.0.0; python_version >= \"3.3\"->ipywidgets>=7.5.1->neuralprophet) (0.2.5)\n",
      "Requirement already satisfied: parso<0.8.0,>=0.7.0 in c:\\annaconda\\lib\\site-packages (from jedi>=0.10->ipython>=4.0.0; python_version >= \"3.3\"->ipywidgets>=7.5.1->neuralprophet) (0.7.0)\n",
      "Requirement already satisfied: pyzmq>=13 in c:\\annaconda\\lib\\site-packages (from jupyter-client->ipykernel>=4.5.1->ipywidgets>=7.5.1->neuralprophet) (19.0.1)\n",
      "Requirement already satisfied: yarl<2.0,>=1.0 in c:\\annaconda\\lib\\site-packages (from aiohttp!=4.0.0a0,!=4.0.0a1; extra == \"http\"->fsspec[http]>2021.06.0->pytorch-lightning<2.0.0,>=1.7->neuralprophet) (1.8.2)\n",
      "Requirement already satisfied: aiosignal>=1.1.2 in c:\\annaconda\\lib\\site-packages (from aiohttp!=4.0.0a0,!=4.0.0a1; extra == \"http\"->fsspec[http]>2021.06.0->pytorch-lightning<2.0.0,>=1.7->neuralprophet) (1.3.1)\n",
      "Requirement already satisfied: async-timeout<5.0,>=4.0.0a3 in c:\\annaconda\\lib\\site-packages (from aiohttp!=4.0.0a0,!=4.0.0a1; extra == \"http\"->fsspec[http]>2021.06.0->pytorch-lightning<2.0.0,>=1.7->neuralprophet) (4.0.2)\n",
      "Requirement already satisfied: multidict<7.0,>=4.5 in c:\\annaconda\\lib\\site-packages (from aiohttp!=4.0.0a0,!=4.0.0a1; extra == \"http\"->fsspec[http]>2021.06.0->pytorch-lightning<2.0.0,>=1.7->neuralprophet) (6.0.4)\n",
      "Requirement already satisfied: charset-normalizer<4.0,>=2.0 in c:\\annaconda\\lib\\site-packages (from aiohttp!=4.0.0a0,!=4.0.0a1; extra == \"http\"->fsspec[http]>2021.06.0->pytorch-lightning<2.0.0,>=1.7->neuralprophet) (3.1.0)\n",
      "Requirement already satisfied: frozenlist>=1.1.1 in c:\\annaconda\\lib\\site-packages (from aiohttp!=4.0.0a0,!=4.0.0a1; extra == \"http\"->fsspec[http]>2021.06.0->pytorch-lightning<2.0.0,>=1.7->neuralprophet) (1.3.3)\n",
      "Requirement already satisfied: MarkupSafe>=0.23 in c:\\annaconda\\lib\\site-packages (from Jinja2>=2.10.1->Flask>=1.0.4->dash<2.9->neuralprophet) (1.1.1)\n",
      "Requirement already satisfied: oauthlib>=3.0.0 in c:\\annaconda\\lib\\site-packages (from requests-oauthlib>=0.7.0->google-auth-oauthlib<1.1,>=0.5->tensorboard->neuralprophet) (3.2.2)\n",
      "Requirement already satisfied: pyasn1>=0.1.3 in c:\\annaconda\\lib\\site-packages (from rsa<5,>=3.1.4; python_version >= \"3.6\"->google-auth<3,>=1.6.3->tensorboard->neuralprophet) (0.4.8)\n",
      "Requirement already satisfied: zipp>=0.5 in c:\\annaconda\\lib\\site-packages (from importlib-metadata>=4.4; python_version < \"3.10\"->markdown>=2.6.8->tensorboard->neuralprophet) (3.1.0)\n",
      "Requirement already up-to-date: PyYAML in c:\\annaconda\\lib\\site-packages (6.0)\n",
      "Note: you may need to restart the kernel to use updated packages.\n"
     ]
    }
   ],
   "source": [
    "pip install --upgrade PyYAML"
   ]
  },
  {
   "cell_type": "code",
   "execution_count": 13,
   "metadata": {},
   "outputs": [
    {
     "name": "stdout",
     "output_type": "stream",
     "text": [
      "Collecting PyYAML\n",
      "  Using cached PyYAML-6.0-cp38-cp38-win_amd64.whl (155 kB)\n",
      "Installing collected packages: PyYAML\n",
      "Note: you may need to restart the kernel to use updated packages.Successfully installed PyYAML-6.0\n",
      "\n"
     ]
    }
   ],
   "source": [
    "pip install --ignore-installed PyYAML"
   ]
  },
  {
   "cell_type": "code",
   "execution_count": 30,
   "metadata": {},
   "outputs": [
    {
     "name": "stderr",
     "output_type": "stream",
     "text": [
      "WARNING - (NP.forecaster.fit) - When Global modeling with local normalization, metrics are displayed in normalized scale.\n",
      "INFO - (NP.df_utils._infer_frequency) - Major frequency D corresponds to 90.0% of the data.\n",
      "WARNING - (NP.df_utils._infer_frequency) - Defined frequency M is different than major frequency D\n",
      "INFO - (NP.config.init_data_params) - Setting normalization to global as only one dataframe provided for training.\n",
      "INFO - (NP.utils.set_auto_seasonalities) - Disabling daily seasonality. Run NeuralProphet with daily_seasonality=True to override this.\n",
      "INFO - (NP.config.set_auto_batch_epoch) - Auto-set batch_size to 16\n",
      "INFO - (NP.config.set_auto_batch_epoch) - Auto-set epochs to 508\n",
      "WARNING - (NP.config.set_lr_finder_args) - Learning rate finder: The number of batches (7) is too small than the required number for the learning rate finder (208). The results might not be optimal.\n"
     ]
    },
    {
     "data": {
      "application/vnd.jupyter.widget-view+json": {
       "model_id": "6b3bf0659ad84f608ac7c35c28846703",
       "version_major": 2,
       "version_minor": 0
      },
      "text/plain": [
       "Finding best initial lr:   0%|          | 0/208 [00:00<?, ?it/s]"
      ]
     },
     "metadata": {},
     "output_type": "display_data"
    },
    {
     "data": {
      "application/vnd.jupyter.widget-view+json": {
       "model_id": "7084d7d6e042479e94975da8f95520c5",
       "version_major": 2,
       "version_minor": 0
      },
      "text/plain": [
       "Training: 0it [00:00, ?it/s]"
      ]
     },
     "metadata": {},
     "output_type": "display_data"
    },
    {
     "name": "stderr",
     "output_type": "stream",
     "text": [
      "INFO - (NP.df_utils._infer_frequency) - Major frequency D corresponds to 90.0% of the data.\n",
      "WARNING - (NP.df_utils._infer_frequency) - Defined frequency M is different than major frequency D\n",
      "INFO - (NP.df_utils._infer_frequency) - Major frequency D corresponds to 90.0% of the data.\n",
      "WARNING - (NP.df_utils._infer_frequency) - Defined frequency M is different than major frequency D\n"
     ]
    },
    {
     "data": {
      "application/vnd.jupyter.widget-view+json": {
       "model_id": "fdccd3541502488ab8dd194d046e4178",
       "version_major": 2,
       "version_minor": 0
      },
      "text/plain": [
       "Predicting: 7it [00:00, ?it/s]"
      ]
     },
     "metadata": {},
     "output_type": "display_data"
    },
    {
     "name": "stderr",
     "output_type": "stream",
     "text": [
      "INFO - (NP.df_utils.return_df_in_original_format) - Returning df with no ID column\n"
     ]
    }
   ],
   "source": [
    "from neuralprophet import NeuralProphet\n",
    "import pandas as pd\n",
    "\n",
    "#df = pd.read_csv('C:/Prathamesh/Semester 6/IOT/Project/VIT_model/final_vit_dataset.csv')\n",
    "\n",
    "m = NeuralProphet()\n",
    "\n",
    "metrics = m.fit(new_df, freq=\"M\")\n",
    "\n",
    "forecast = m.predict(new_df)"
   ]
  },
  {
   "cell_type": "code",
   "execution_count": 33,
   "metadata": {},
   "outputs": [],
   "source": [
    "pickle.dump(m, open('vit_model.pkl', 'wb'))"
   ]
  }
 ],
 "metadata": {
  "kernelspec": {
   "display_name": "Python 3",
   "language": "python",
   "name": "python3"
  },
  "language_info": {
   "codemirror_mode": {
    "name": "ipython",
    "version": 3
   },
   "file_extension": ".py",
   "mimetype": "text/x-python",
   "name": "python",
   "nbconvert_exporter": "python",
   "pygments_lexer": "ipython3",
   "version": "3.8.3"
  }
 },
 "nbformat": 4,
 "nbformat_minor": 4
}
